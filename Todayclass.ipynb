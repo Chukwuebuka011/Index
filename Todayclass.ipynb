{
 "cells": [
  {
   "cell_type": "code",
   "execution_count": 7,
   "id": "cc5bd14b-62ae-4ab9-a889-7a165c11e4c8",
   "metadata": {},
   "outputs": [
    {
     "name": "stdin",
     "output_type": "stream",
     "text": [
      "Time of the Day Good day\n"
     ]
    },
    {
     "name": "stdout",
     "output_type": "stream",
     "text": [
      "Good night\n"
     ]
    }
   ],
   "source": [
    "userinput = input('Time of the Day')\n",
    "if userinput == 'Morning':\n",
    "    print('Good morning')\n",
    "else:\n",
    "    print('Good night')"
   ]
  },
  {
   "cell_type": "code",
   "execution_count": 8,
   "id": "817ab0b0-ee18-493c-bad0-29627e2212f2",
   "metadata": {},
   "outputs": [
    {
     "name": "stdout",
     "output_type": "stream",
     "text": [
      "a is bigger than b\n"
     ]
    }
   ],
   "source": [
    "a = 100\n",
    "b = 20\n",
    "\n",
    "if b > a:\n",
    "    print(\"b is in fact bigger than a\")\n",
    "else:\n",
    "    print(\"a is bigger than b\")"
   ]
  },
  {
   "cell_type": "code",
   "execution_count": 9,
   "id": "00fb4e05-6f7d-4db2-be7d-d27a31c534c6",
   "metadata": {},
   "outputs": [],
   "source": [
    "x = 2323\n",
    "y = 509\n",
    "\n",
    "if x < y:\n",
    "    print('yes')"
   ]
  },
  {
   "cell_type": "code",
   "execution_count": 16,
   "id": "d88ce1ea-0ae4-4ca0-9c50-c3d3a66b5b7d",
   "metadata": {},
   "outputs": [
    {
     "name": "stdin",
     "output_type": "stream",
     "text": [
      "Enter your password:  123456\n"
     ]
    },
    {
     "name": "stdout",
     "output_type": "stream",
     "text": [
      "Login successful\n"
     ]
    }
   ],
   "source": [
    "saved_password = 123456\n",
    "new_password = input(\"Enter your password: \")\n",
    "\n",
    "if int(new_password) == saved_password:\n",
    "    print(\"Login successful\")\n",
    "else:\n",
    "    print(\"you're a criminal\")"
   ]
  },
  {
   "cell_type": "code",
   "execution_count": 17,
   "id": "b8c49a78-f448-4974-8864-43bc91dfaf49",
   "metadata": {},
   "outputs": [
    {
     "name": "stdout",
     "output_type": "stream",
     "text": [
      "Good Night\n"
     ]
    }
   ],
   "source": [
    "\n",
    "if userinput == ('Good morning'):\n",
    "    print('Good morning')\n",
    "elif userinput == ('Good afternoon'):\n",
    "    print('Good afternoon')\n",
    "elif userinput == ('good evening'):\n",
    "    print('Good evening')\n",
    "else:\n",
    "    print('Good Night')\n"
   ]
  },
  {
   "cell_type": "code",
   "execution_count": 24,
   "id": "5af31c85-e8c8-4edf-bf5d-a9c95bf100bf",
   "metadata": {},
   "outputs": [
    {
     "name": "stdout",
     "output_type": "stream",
     "text": [
      "{'Banana', 'cherry', 'Apple'}\n"
     ]
    }
   ],
   "source": [
    "thisisset = {\"Apple\", \"Banana\", \"cherry\"}\n",
    "print(thisisset)"
   ]
  },
  {
   "cell_type": "code",
   "execution_count": 27,
   "id": "41d4d5ba-fd60-4b8e-9334-191dbfa49d59",
   "metadata": {},
   "outputs": [
    {
     "name": "stdout",
     "output_type": "stream",
     "text": [
      "{'BENZ', 'AUDI', 'CHEVY'}\n"
     ]
    }
   ],
   "source": [
    "thisset = {'BENZ', 'BENZ', 'AUDI', 'CHEVY'}\n",
    "print(thisset)"
   ]
  },
  {
   "cell_type": "code",
   "execution_count": 28,
   "id": "69766e0b-afb9-47d8-8b45-d59e86d606e6",
   "metadata": {},
   "outputs": [
    {
     "name": "stdout",
     "output_type": "stream",
     "text": [
      "{'cherry', 'apple', 'banana'}\n"
     ]
    }
   ],
   "source": [
    "a = ('apple', 'banana', 'cherry')\n",
    "ts = set(a)\n",
    "print(ts)"
   ]
  },
  {
   "cell_type": "code",
   "execution_count": 38,
   "id": "bfd4dc6e-f175-427c-acd0-8cbd164addea",
   "metadata": {},
   "outputs": [
    {
     "name": "stdout",
     "output_type": "stream",
     "text": [
      "{'Fruits': 'Orange', 'Drinks': ['Chivita', 'Yoghurt', 'Milkshake'], 'cereal': 'golden morn'}\n"
     ]
    },
    {
     "data": {
      "text/plain": [
       "'Milkshake'"
      ]
     },
     "execution_count": 38,
     "metadata": {},
     "output_type": "execute_result"
    }
   ],
   "source": [
    "Food = {\n",
    "    'Fruits': 'Orange',\n",
    "    'Drinks': ['Chivita', 'Yoghurt', 'Milkshake'],\n",
    "    'cereal': 'Granola',\n",
    "    'cereal': 'golden morn'\n",
    "}\n",
    "print(Food)\n",
    "Food['Drinks'][2]"
   ]
  },
  {
   "cell_type": "code",
   "execution_count": null,
   "id": "1e44c39c-066b-45ea-921a-a9d7833aa8b3",
   "metadata": {},
   "outputs": [],
   "source": []
  },
  {
   "cell_type": "code",
   "execution_count": null,
   "id": "a1a0d2b8-a3c6-4f94-a3e7-0984c3b6169d",
   "metadata": {},
   "outputs": [],
   "source": []
  }
 ],
 "metadata": {
  "kernelspec": {
   "display_name": "Python 3 (ipykernel)",
   "language": "python",
   "name": "python3"
  },
  "language_info": {
   "codemirror_mode": {
    "name": "ipython",
    "version": 3
   },
   "file_extension": ".py",
   "mimetype": "text/x-python",
   "name": "python",
   "nbconvert_exporter": "python",
   "pygments_lexer": "ipython3",
   "version": "3.11.7"
  }
 },
 "nbformat": 4,
 "nbformat_minor": 5
}
