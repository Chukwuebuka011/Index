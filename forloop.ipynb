{
 "cells": [
  {
   "cell_type": "code",
   "execution_count": 1,
   "id": "abb93a99-035d-406a-9fe5-56cf4983f840",
   "metadata": {},
   "outputs": [
    {
     "name": "stdout",
     "output_type": "stream",
     "text": [
      "Orange\n",
      "Kiwi\n",
      "Banana\n"
     ]
    }
   ],
   "source": [
    "Fruits = ['Orange', 'Kiwi', 'Banana']\n",
    "for F in Fruits:\n",
    "    print(F) "
   ]
  },
  {
   "cell_type": "code",
   "execution_count": 2,
   "id": "9ba062f5-7f6b-4ce1-9ed3-a95639f4ff13",
   "metadata": {},
   "outputs": [
    {
     "name": "stdout",
     "output_type": "stream",
     "text": [
      "Banana\n"
     ]
    }
   ],
   "source": [
    "print(F)"
   ]
  },
  {
   "cell_type": "code",
   "execution_count": 6,
   "id": "188b027c-8587-46ea-b1cb-2d82fd770d97",
   "metadata": {},
   "outputs": [
    {
     "name": "stdout",
     "output_type": "stream",
     "text": [
      "bmw Ford benz gmc "
     ]
    }
   ],
   "source": [
    "for car in ['bmw', 'Ford', 'benz', 'gmc']:\n",
    "    print(car, end =' ')"
   ]
  },
  {
   "cell_type": "code",
   "execution_count": 7,
   "id": "12b85910-69dc-44ca-b21a-adbbcaf234eb",
   "metadata": {},
   "outputs": [
    {
     "name": "stdout",
     "output_type": "stream",
     "text": [
      "T\n",
      "h\n",
      "i\n",
      "s\n",
      " \n",
      "i\n",
      "s\n",
      " \n",
      "a\n",
      " \n",
      "s\n",
      "t\n",
      "r\n",
      "i\n",
      "n\n",
      "g\n"
     ]
    }
   ],
   "source": [
    "for character in 'This is a string':\n",
    "    print(character)"
   ]
  },
  {
   "cell_type": "code",
   "execution_count": 8,
   "id": "032abb09-3405-4cc7-ab6d-6b5370199a88",
   "metadata": {},
   "outputs": [
    {
     "name": "stdout",
     "output_type": "stream",
     "text": [
      "1\n",
      "4\n",
      "9\n"
     ]
    }
   ],
   "source": [
    "mylist = [1,2,3,4]\n",
    "\n",
    "for num in mylist:\n",
    "    if num == 4:\n",
    "        break\n",
    "    print(num**2)"
   ]
  },
  {
   "cell_type": "code",
   "execution_count": 9,
   "id": "089bf1b0-a609-4cb0-9868-ffb5e48f18ca",
   "metadata": {},
   "outputs": [
    {
     "data": {
      "text/plain": [
       "tuple"
      ]
     },
     "execution_count": 9,
     "metadata": {},
     "output_type": "execute_result"
    }
   ],
   "source": [
    "t = ('apple,' 'banana', 'cherry')\n",
    "type(t)"
   ]
  },
  {
   "cell_type": "markdown",
   "id": "157b70c2-4e6c-4584-8d4e-df856f18bb56",
   "metadata": {},
   "source": [
    "Using Conditional statement"
   ]
  },
  {
   "cell_type": "code",
   "execution_count": 15,
   "id": "8f43b7d1-88d0-499f-9211-9a8d3115b14f",
   "metadata": {},
   "outputs": [
    {
     "name": "stdout",
     "output_type": "stream",
     "text": [
      "Nah\n"
     ]
    }
   ],
   "source": [
    "thisistuple = ('apple', 'banana', 'cherry')\n",
    "if \"orange\" in thisistuple:\n",
    "    print(\"Yes, 'apple' is in the fruits tuple\")\n",
    "else:\n",
    "    print('Nah')\n"
   ]
  },
  {
   "cell_type": "markdown",
   "id": "6ae0a9c0-c9a5-4cd7-a98f-767683b1987e",
   "metadata": {},
   "source": [
    "# h1"
   ]
  },
  {
   "cell_type": "markdown",
   "id": "68e64fe1-8409-42a6-b016-89a1cb6eadd3",
   "metadata": {},
   "source": [
    "## h2"
   ]
  },
  {
   "cell_type": "markdown",
   "id": "30e5f4ec-d276-4f61-bcc8-3372daa58520",
   "metadata": {},
   "source": [
    "### h3"
   ]
  },
  {
   "cell_type": "markdown",
   "id": "7d687002-dad4-4a9e-87be-0b79e062e603",
   "metadata": {},
   "source": [
    "#### h4"
   ]
  },
  {
   "cell_type": "markdown",
   "id": "68acb3ab-7ad7-4785-b0aa-b0b63cd0657f",
   "metadata": {},
   "source": [
    "##### h5"
   ]
  },
  {
   "cell_type": "markdown",
   "id": "70534fa4-de9b-45ed-9424-d09bf52c4de6",
   "metadata": {},
   "source": [
    "###### h6"
   ]
  },
  {
   "cell_type": "code",
   "execution_count": 23,
   "id": "58c1c1c3-fed9-4a98-9df4-f81b00d4441f",
   "metadata": {},
   "outputs": [
    {
     "name": "stdin",
     "output_type": "stream",
     "text": [
      "what is your name Shades\n"
     ]
    },
    {
     "name": "stdout",
     "output_type": "stream",
     "text": [
      "Hello, Shades!\n"
     ]
    }
   ],
   "source": [
    "name = input(\"what is your name\")\n",
    "print(\"Hello, \" + name + \"!\")"
   ]
  },
  {
   "cell_type": "code",
   "execution_count": 28,
   "id": "4ba36fad-f92a-415c-8bb2-ae51f28454e1",
   "metadata": {},
   "outputs": [
    {
     "name": "stdin",
     "output_type": "stream",
     "text": [
      "what is your name Shades\n",
      "what is your age 15\n"
     ]
    },
    {
     "name": "stdout",
     "output_type": "stream",
     "text": [
      "Shades  was born on  2009\n"
     ]
    }
   ],
   "source": [
    "name = input(\"what is your name\")\n",
    "age =int(input(\"what is your age\"))\n",
    "Year = 2024 - age\n",
    "print(name , ' was born on ', Year) \n"
   ]
  },
  {
   "cell_type": "code",
   "execution_count": 29,
   "id": "0848b690-e110-4b4c-b54c-57b98de61583",
   "metadata": {},
   "outputs": [
    {
     "name": "stdin",
     "output_type": "stream",
     "text": [
      "Guess a number:  1\n"
     ]
    },
    {
     "name": "stdout",
     "output_type": "stream",
     "text": [
      "correct guess\n"
     ]
    }
   ],
   "source": [
    "a = int(input('Guess a number: '))\n",
    "\n",
    "if a == 1:\n",
    "    print('correct guess')\n",
    "else:\n",
    "    print('incorrect guess')"
   ]
  },
  {
   "cell_type": "code",
   "execution_count": null,
   "id": "1d174051-36d1-4733-bc4f-73d09d62b7a0",
   "metadata": {},
   "outputs": [],
   "source": []
  }
 ],
 "metadata": {
  "kernelspec": {
   "display_name": "Python 3 (ipykernel)",
   "language": "python",
   "name": "python3"
  },
  "language_info": {
   "codemirror_mode": {
    "name": "ipython",
    "version": 3
   },
   "file_extension": ".py",
   "mimetype": "text/x-python",
   "name": "python",
   "nbconvert_exporter": "python",
   "pygments_lexer": "ipython3",
   "version": "3.11.7"
  }
 },
 "nbformat": 4,
 "nbformat_minor": 5
}
