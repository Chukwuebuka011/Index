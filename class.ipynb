{
 "cells": [
  {
   "cell_type": "code",
   "execution_count": 2,
   "metadata": {},
   "outputs": [
    {
     "data": {
      "text/plain": [
       "{'fruits': ['orange', 'Kiwi', 'Strawberry'],\n",
       " 'Drinks': ('mango_Juice', 'Apple_juice', 'Orange_juice'),\n",
       " 'cereal': {'New_cereal': ['cornflakes', 'golden_morn'],\n",
       "  'new_drinks': ['coke', 'fanta', 'Bloody mary']}}"
      ]
     },
     "execution_count": 2,
     "metadata": {},
     "output_type": "execute_result"
    }
   ],
   "source": [
    "food = {\n",
    "    'fruits': ['orange', 'Kiwi', 'Strawberry'],\n",
    "    'Drinks': ('mango_Juice', 'Apple_juice', 'Orange_juice'),\n",
    "    'cereal': {'New_cereal': ['cornflakes', 'golden_morn'], 'new_drinks':['coke', 'fanta', 'Bloody mary']}\n",
    "}\n",
    "food"
   ]
  },
  {
   "cell_type": "code",
   "execution_count": 16,
   "metadata": {},
   "outputs": [
    {
     "data": {
      "text/plain": [
       "'coke'"
      ]
     },
     "execution_count": 16,
     "metadata": {},
     "output_type": "execute_result"
    }
   ],
   "source": [
    "food['cereal']['new_drinks'][0]"
   ]
  },
  {
   "cell_type": "code",
   "execution_count": 15,
   "metadata": {},
   "outputs": [],
   "source": [
    "P_info = {\n",
    "    'sex' : 'Male',\n",
    "    'Height' : 173,\n",
    "    'Weight' : 65,\n",
    "    'Numbers' : [1,2,3,4],\n",
    "    'Fruits' : {'Citrus':['Lemon', 'lime', 'orange', {'orange-type': ['foreign', 'local']}]}\n",
    "}"
   ]
  },
  {
   "cell_type": "code",
   "execution_count": 18,
   "metadata": {},
   "outputs": [],
   "source": [
    "P_info['Fruits']['Citrus'][3]['orange-type'][1] = 'International' "
   ]
  },
  {
   "cell_type": "code",
   "execution_count": 19,
   "metadata": {},
   "outputs": [
    {
     "data": {
      "text/plain": [
       "{'sex': 'Male',\n",
       " 'Height': 173,\n",
       " 'Weight': 65,\n",
       " 'Numbers': [1, 2, 3, 4],\n",
       " 'Fruits': {'Citrus': ['Lemon',\n",
       "   'lime',\n",
       "   'orange',\n",
       "   {'orange-type': ['foreign', 'International']}]}}"
      ]
     },
     "execution_count": 19,
     "metadata": {},
     "output_type": "execute_result"
    }
   ],
   "source": [
    "P_info"
   ]
  },
  {
   "cell_type": "code",
   "execution_count": 23,
   "metadata": {},
   "outputs": [
    {
     "data": {
      "text/plain": [
       "dict_items([('fruits', ['orange', 'Kiwi', 'Strawberry']), ('Drinks', ('mango_Juice', 'Apple_juice', 'Orange_juice')), ('cereal', {'New_cereal': ['cornflakes', 'golden_morn'], 'new_drinks': ['coke', 'fanta', 'Bloody mary']})])"
      ]
     },
     "execution_count": 23,
     "metadata": {},
     "output_type": "execute_result"
    }
   ],
   "source": [
    "\n",
    "food.items()"
   ]
  },
  {
   "cell_type": "code",
   "execution_count": 24,
   "metadata": {},
   "outputs": [
    {
     "data": {
      "text/plain": [
       "dict_values([['orange', 'Kiwi', 'Strawberry'], ('mango_Juice', 'Apple_juice', 'Orange_juice'), {'New_cereal': ['cornflakes', 'golden_morn'], 'new_drinks': ['coke', 'fanta', 'Bloody mary']}])"
      ]
     },
     "execution_count": 24,
     "metadata": {},
     "output_type": "execute_result"
    }
   ],
   "source": [
    "food.values()"
   ]
  },
  {
   "cell_type": "code",
   "execution_count": 25,
   "metadata": {},
   "outputs": [
    {
     "data": {
      "text/plain": [
       "dict_keys(['fruits', 'Drinks', 'cereal'])"
      ]
     },
     "execution_count": 25,
     "metadata": {},
     "output_type": "execute_result"
    }
   ],
   "source": [
    "food.keys()"
   ]
  },
  {
   "cell_type": "code",
   "execution_count": 27,
   "metadata": {},
   "outputs": [
    {
     "data": {
      "text/plain": [
       "dict_keys(['New_cereal', 'new_drinks'])"
      ]
     },
     "execution_count": 27,
     "metadata": {},
     "output_type": "execute_result"
    }
   ],
   "source": [
    "food['cereal'].keys()"
   ]
  },
  {
   "cell_type": "code",
   "execution_count": 28,
   "metadata": {},
   "outputs": [
    {
     "data": {
      "text/plain": [
       "{'New_cereal': ['cornflakes', 'golden_morn'],\n",
       " 'new_drinks': ['coke', 'fanta', 'Bloody mary']}"
      ]
     },
     "execution_count": 28,
     "metadata": {},
     "output_type": "execute_result"
    }
   ],
   "source": [
    "food['cereal']"
   ]
  },
  {
   "cell_type": "code",
   "execution_count": 33,
   "metadata": {},
   "outputs": [
    {
     "data": {
      "text/plain": [
       "dict_keys(['fruits', 'Drinks', 'cereal'])"
      ]
     },
     "execution_count": 33,
     "metadata": {},
     "output_type": "execute_result"
    }
   ],
   "source": [
    "food.keys()"
   ]
  },
  {
   "cell_type": "code",
   "execution_count": 34,
   "metadata": {},
   "outputs": [],
   "source": [
    "food.update({'snacks' : 'Coconut_candy'})"
   ]
  },
  {
   "cell_type": "code",
   "execution_count": 35,
   "metadata": {},
   "outputs": [
    {
     "name": "stdout",
     "output_type": "stream",
     "text": [
      "{'fruits': ['orange', 'Kiwi', 'Strawberry'], 'Drinks': ('mango_Juice', 'Apple_juice', 'Orange_juice'), 'cereal': {'New_cereal': ['cornflakes', 'golden_morn'], 'new_drinks': ['coke', 'fanta', 'Bloody mary']}, 'snacks': 'Coconut_candy'}\n"
     ]
    }
   ],
   "source": [
    "print(food)"
   ]
  },
  {
   "cell_type": "code",
   "execution_count": 36,
   "metadata": {},
   "outputs": [],
   "source": [
    "car = {\n",
    "    \"brand\": \"Ford\",\n",
    "    \"model\": \"Mustang\",\n",
    "    \"Year\": 1964\n",
    "    }\n",
    "\n"
   ]
  },
  {
   "cell_type": "code",
   "execution_count": 37,
   "metadata": {},
   "outputs": [],
   "source": [
    "car.setdefault('Colour')"
   ]
  },
  {
   "cell_type": "code",
   "execution_count": 38,
   "metadata": {},
   "outputs": [
    {
     "data": {
      "text/plain": [
       "{'brand': 'Ford', 'model': 'Mustang', 'Year': 1964, 'Colour': None}"
      ]
     },
     "execution_count": 38,
     "metadata": {},
     "output_type": "execute_result"
    }
   ],
   "source": [
    "car"
   ]
  },
  {
   "cell_type": "code",
   "execution_count": 39,
   "metadata": {},
   "outputs": [
    {
     "data": {
      "text/plain": [
       "1234"
      ]
     },
     "execution_count": 39,
     "metadata": {},
     "output_type": "execute_result"
    }
   ],
   "source": [
    "car.setdefault('Mileage',1234)"
   ]
  },
  {
   "cell_type": "code",
   "execution_count": 40,
   "metadata": {},
   "outputs": [
    {
     "data": {
      "text/plain": [
       "{'brand': 'Ford',\n",
       " 'model': 'Mustang',\n",
       " 'Year': 1964,\n",
       " 'Colour': None,\n",
       " 'Mileage': 1234}"
      ]
     },
     "execution_count": 40,
     "metadata": {},
     "output_type": "execute_result"
    }
   ],
   "source": [
    "car"
   ]
  },
  {
   "cell_type": "code",
   "execution_count": 41,
   "metadata": {},
   "outputs": [
    {
     "data": {
      "text/plain": [
       "('Mileage', 1234)"
      ]
     },
     "execution_count": 41,
     "metadata": {},
     "output_type": "execute_result"
    }
   ],
   "source": [
    "car.popitem()"
   ]
  },
  {
   "cell_type": "code",
   "execution_count": 42,
   "metadata": {},
   "outputs": [],
   "source": [
    "car.pop('Colour')"
   ]
  },
  {
   "cell_type": "code",
   "execution_count": 43,
   "metadata": {},
   "outputs": [
    {
     "data": {
      "text/plain": [
       "{'brand': 'Ford', 'model': 'Mustang', 'Year': 1964}"
      ]
     },
     "execution_count": 43,
     "metadata": {},
     "output_type": "execute_result"
    }
   ],
   "source": [
    "car"
   ]
  },
  {
   "cell_type": "code",
   "execution_count": 44,
   "metadata": {},
   "outputs": [
    {
     "data": {
      "text/plain": [
       "'Ford'"
      ]
     },
     "execution_count": 44,
     "metadata": {},
     "output_type": "execute_result"
    }
   ],
   "source": [
    "car.get('brand')"
   ]
  },
  {
   "cell_type": "code",
   "execution_count": 8,
   "metadata": {},
   "outputs": [],
   "source": [
    "def  login():\n",
    "    '''This prints the sum of two numbers a and b'''\n",
    "    Firstname = input('Enter your First Name: ')\n",
    "    Lastname = input('Enter your Lastname: ')\n",
    "    Password = int(input('Enter your Password: '))\n",
    "    Savedpassword = 1234\n",
    "\n",
    "    if Password == Savedpassword:\n",
    "        print(f'Login successful {Firstname} {Lastname}')\n",
    "    else:\n",
    "    \n",
    "      print('Incorrect Password, Try again')\n",
    "    return"
   ]
  },
  {
   "cell_type": "code",
   "execution_count": 7,
   "metadata": {},
   "outputs": [
    {
     "name": "stdout",
     "output_type": "stream",
     "text": [
      "Login successful Ebuka Ibeme\n"
     ]
    }
   ],
   "source": [
    "login()"
   ]
  },
  {
   "cell_type": "code",
   "execution_count": 10,
   "metadata": {},
   "outputs": [
    {
     "data": {
      "text/plain": [
       "'This prints the sum of two numbers a and b'"
      ]
     },
     "execution_count": 10,
     "metadata": {},
     "output_type": "execute_result"
    }
   ],
   "source": [
    "login.__doc__"
   ]
  },
  {
   "cell_type": "code",
   "execution_count": 20,
   "metadata": {},
   "outputs": [],
   "source": [
    "def age():\n",
    "    age = int(input('Your age'))\n",
    "    year = 2024 - age\n",
    "    print('was born', year)"
   ]
  },
  {
   "cell_type": "code",
   "execution_count": 21,
   "metadata": {},
   "outputs": [
    {
     "name": "stdout",
     "output_type": "stream",
     "text": [
      "was born 2004\n"
     ]
    }
   ],
   "source": [
    "age()"
   ]
  },
  {
   "cell_type": "code",
   "execution_count": 23,
   "metadata": {},
   "outputs": [
    {
     "name": "stdout",
     "output_type": "stream",
     "text": [
      "10.714285714285714\n"
     ]
    }
   ],
   "source": [
    "def average(a,n,e):\n",
    "    print(a + n / e)\n",
    "    return\n",
    "average(9,12,7)"
   ]
  },
  {
   "cell_type": "code",
   "execution_count": 24,
   "metadata": {},
   "outputs": [
    {
     "name": "stdout",
     "output_type": "stream",
     "text": [
      "The passed name is John Snow\n",
      "The new name in this function is Harry Potter\n"
     ]
    }
   ],
   "source": [
    "def change_name(name):\n",
    "    print(\"The passed name is {}\".format(name))\n",
    "#change the name\n",
    "    name = \"Harry Potter\"\n",
    "    print(\"The new name in this function is {}\".format(name))\n",
    "    return\n",
    "\n",
    "#call the function\n",
    "name = \"John Snow\"\n",
    "change_name(name)"
   ]
  },
  {
   "cell_type": "code",
   "execution_count": 25,
   "metadata": {},
   "outputs": [
    {
     "name": "stdout",
     "output_type": "stream",
     "text": [
      "The new name in this function is Harry Potter\n",
      "The passed name is Harry Potter\n"
     ]
    }
   ],
   "source": [
    "def change_name(name):\n",
    "#change the name\n",
    "    name = \"Harry Potter\"\n",
    "    print(\"The new name in this function is {}\".format(name))\n",
    "    print(\"The passed name is {}\".format(name))\n",
    "    return\n",
    "\n",
    "#call the function\n",
    "name = \"John Snow\"\n",
    "change_name(name)"
   ]
  },
  {
   "cell_type": "code",
   "execution_count": 27,
   "metadata": {},
   "outputs": [
    {
     "name": "stdout",
     "output_type": "stream",
     "text": [
      "2012\n"
     ]
    }
   ],
   "source": [
    "def changenames(age=12,year=2024):\n",
    "    print(year - age)\n",
    "    return\n",
    "changenames()"
   ]
  },
  {
   "cell_type": "code",
   "execution_count": null,
   "metadata": {},
   "outputs": [],
   "source": []
  }
 ],
 "metadata": {
  "kernelspec": {
   "display_name": "base",
   "language": "python",
   "name": "python3"
  },
  "language_info": {
   "codemirror_mode": {
    "name": "ipython",
    "version": 3
   },
   "file_extension": ".py",
   "mimetype": "text/x-python",
   "name": "python",
   "nbconvert_exporter": "python",
   "pygments_lexer": "ipython3",
   "version": "3.12.4"
  }
 },
 "nbformat": 4,
 "nbformat_minor": 2
}
