{
 "cells": [
  {
   "cell_type": "code",
   "execution_count": 1,
   "id": "240500e8-e109-402c-b2bf-ef5dfc209829",
   "metadata": {},
   "outputs": [
    {
     "name": "stdout",
     "output_type": "stream",
     "text": [
      "hello world\n"
     ]
    }
   ],
   "source": [
    "print('hello world')\n",
    "name = ('shades')"
   ]
  },
  {
   "cell_type": "code",
   "execution_count": 19,
   "id": "00e681e3-c17c-4f29-93b5-cb9050a62b35",
   "metadata": {},
   "outputs": [],
   "source": [
    "name = 'Shades'\n",
    "age = 12 #integer datatype\n",
    "height = 12.3 # float datatype\n",
    "b = True #boolen datatype "
   ]
  },
  {
   "cell_type": "code",
   "execution_count": 8,
   "id": "eb73e142-ac4a-43cf-850d-2d4c05f7d6f0",
   "metadata": {},
   "outputs": [
    {
     "data": {
      "text/plain": [
       "'Shades'"
      ]
     },
     "execution_count": 8,
     "metadata": {},
     "output_type": "execute_result"
    }
   ],
   "source": [
    "name"
   ]
  },
  {
   "cell_type": "code",
   "execution_count": 9,
   "id": "4fe68a84-6d49-4f3d-9fcc-df9fbec17543",
   "metadata": {},
   "outputs": [
    {
     "data": {
      "text/plain": [
       "12"
      ]
     },
     "execution_count": 9,
     "metadata": {},
     "output_type": "execute_result"
    }
   ],
   "source": [
    "age"
   ]
  },
  {
   "cell_type": "code",
   "execution_count": 10,
   "id": "96841770-51d7-46ec-a45e-6ef34ef0bbfb",
   "metadata": {},
   "outputs": [
    {
     "data": {
      "text/plain": [
       "12.3"
      ]
     },
     "execution_count": 10,
     "metadata": {},
     "output_type": "execute_result"
    }
   ],
   "source": [
    "height"
   ]
  },
  {
   "cell_type": "code",
   "execution_count": 11,
   "id": "672f0567-c694-4cfa-a94c-e79bd41c80a8",
   "metadata": {},
   "outputs": [
    {
     "data": {
      "text/plain": [
       "True"
      ]
     },
     "execution_count": 11,
     "metadata": {},
     "output_type": "execute_result"
    }
   ],
   "source": [
    "b"
   ]
  },
  {
   "cell_type": "code",
   "execution_count": 18,
   "id": "5dfb9629-e2b4-47b8-bf84-97e324e909c1",
   "metadata": {},
   "outputs": [
    {
     "data": {
      "text/plain": [
       "6"
      ]
     },
     "execution_count": 18,
     "metadata": {},
     "output_type": "execute_result"
    }
   ],
   "source": [
    "len(name)"
   ]
  },
  {
   "cell_type": "code",
   "execution_count": 16,
   "id": "1f88e247-3fb1-4a05-bc38-1b2ae302ef57",
   "metadata": {},
   "outputs": [
    {
     "data": {
      "text/plain": [
       "str"
      ]
     },
     "execution_count": 16,
     "metadata": {},
     "output_type": "execute_result"
    }
   ],
   "source": [
    "type(name)"
   ]
  },
  {
   "cell_type": "code",
   "execution_count": 29,
   "id": "274d581e-ca36-4d66-90c8-8b89bd87cf9d",
   "metadata": {},
   "outputs": [],
   "source": [
    "a = 10\n",
    "a = 100\n",
    "a = 1000"
   ]
  },
  {
   "cell_type": "code",
   "execution_count": 30,
   "id": "fea57b5f-368d-4905-b3eb-12ec21e7ccd9",
   "metadata": {},
   "outputs": [
    {
     "data": {
      "text/plain": [
       "2"
      ]
     },
     "execution_count": 30,
     "metadata": {},
     "output_type": "execute_result"
    }
   ],
   "source": [
    "1+1"
   ]
  },
  {
   "cell_type": "code",
   "execution_count": 31,
   "id": "55184c05-72f8-4c1d-96bf-dddbfbd53cd6",
   "metadata": {},
   "outputs": [],
   "source": [
    "a = 100\n",
    "b = 30"
   ]
  },
  {
   "cell_type": "code",
   "execution_count": 32,
   "id": "2378f5ae-f1fc-4396-9b33-b4c8f2e8c764",
   "metadata": {},
   "outputs": [
    {
     "data": {
      "text/plain": [
       "False"
      ]
     },
     "execution_count": 32,
     "metadata": {},
     "output_type": "execute_result"
    }
   ],
   "source": [
    "b>a"
   ]
  },
  {
   "cell_type": "code",
   "execution_count": 33,
   "id": "b36aee07-8889-4adc-af2d-72664152a084",
   "metadata": {},
   "outputs": [
    {
     "data": {
      "text/plain": [
       "True"
      ]
     },
     "execution_count": 33,
     "metadata": {},
     "output_type": "execute_result"
    }
   ],
   "source": [
    "b<a"
   ]
  },
  {
   "cell_type": "code",
   "execution_count": 35,
   "id": "88063113-a46e-46b3-ad90-1d603562a2f0",
   "metadata": {},
   "outputs": [
    {
     "data": {
      "text/plain": [
       "80"
      ]
     },
     "execution_count": 35,
     "metadata": {},
     "output_type": "execute_result"
    }
   ],
   "source": [
    "8*10"
   ]
  },
  {
   "cell_type": "code",
   "execution_count": 40,
   "id": "6bdaa18a-e55b-4382-b086-7056914984a7",
   "metadata": {},
   "outputs": [
    {
     "name": "stdin",
     "output_type": "stream",
     "text": [
      "enter the value for x:  30\n",
      "enter the value for y:  30\n"
     ]
    },
    {
     "data": {
      "text/plain": [
       "True"
      ]
     },
     "execution_count": 40,
     "metadata": {},
     "output_type": "execute_result"
    }
   ],
   "source": [
    "x = int(input('enter the value for x: '))\n",
    "y = int(input('enter the value for y: '))\n",
    "x==y"
   ]
  },
  {
   "cell_type": "code",
   "execution_count": null,
   "id": "fc4c0538-da32-4605-b2dd-703a682d274e",
   "metadata": {},
   "outputs": [],
   "source": [
    "\n"
   ]
  }
 ],
 "metadata": {
  "kernelspec": {
   "display_name": "Python 3 (ipykernel)",
   "language": "python",
   "name": "python3"
  },
  "language_info": {
   "codemirror_mode": {
    "name": "ipython",
    "version": 3
   },
   "file_extension": ".py",
   "mimetype": "text/x-python",
   "name": "python",
   "nbconvert_exporter": "python",
   "pygments_lexer": "ipython3",
   "version": "3.11.7"
  }
 },
 "nbformat": 4,
 "nbformat_minor": 5
}
